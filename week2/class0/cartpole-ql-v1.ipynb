{
 "cells": [
  {
   "cell_type": "markdown",
   "metadata": {},
   "source": [
    "# CartPole Using Q-Learning\n",
    "\n",
    "[CartPole Documentation](https://github.com/openai/gym/blob/master/gym/envs/classic_control/cartpole.py)\n",
    "\n",
    "### Action Space\n",
    "\n",
    "The action is a `ndarray` with shape `(1,)` which can take values `{0, 1}` indicating the direction of the fixed force the cart is pushed with.\n",
    "\n",
    "| Num | Action                 |\n",
    "|-----|------------------------|\n",
    "| 0   | Push cart to the left  |\n",
    "| 1   | Push cart to the right |\n",
    "\n",
    "**Note**: The velocity that is reduced or increased by the applied force is not fixed and it depends on the angle the pole is pointing. The center of gravity of the pole varies the amount of energy needed to move the cart underneath it\n",
    "\n",
    "### Observation Space\n",
    "\n",
    "The observation is a `ndarray` with shape `(4,)` with the values corresponding to the following positions and velocities:\n",
    "\n",
    "| Num | Observation           | Min                 | Max               |\n",
    "|-----|-----------------------|---------------------|-------------------|\n",
    "| 0   | Cart Position         | -4.8                | 4.8               |\n",
    "| 1   | Cart Velocity         | -Inf                | Inf               |\n",
    "| 2   | Pole Angle            | ~ -0.418 rad (-24°) | ~ 0.418 rad (24°) |\n",
    "| 3   | Pole Angular Velocity | -Inf                | Inf               |\n",
    "\n",
    "**Note:** While the ranges above denote the possible values for observation space of each element, it is not reflective of the allowed values of the state space in an unterminated episode. Particularly:\n",
    "\n",
    "- The cart x-position (index 0) can be take values between `(-4.8, 4.8)`, but the episode terminates if the cart leaves the `(-2.4, 2.4)` range.\n",
    "- The pole angle can be observed between  `(-.418, .418)` radians (or **±24°**), but the episode terminates if the pole angle is not in the range `(-.2095, .2095)` (or **±12°**)\n"
   ]
  },
  {
   "cell_type": "markdown",
   "metadata": {},
   "source": [
    "## Q-Learning Table\n",
    "\n",
    "| Num | Start | Step Width | Steps (Inc. 0) |\n",
    "|-----|-------|------------|----------------|\n",
    "| 0   | -2.4  | 0.1        | 48 + 1         |\n",
    "| 1   | -4    | 0.1       | 80 + 1        |\n",
    "| 2   | -12   | 1°         | 24 + 1         |\n",
    "| 3   | -4    | 0.1       | 80 + 1        |\n"
   ]
  },
  {
   "cell_type": "code",
   "execution_count": 2,
   "metadata": {},
   "outputs": [
    {
     "name": "stderr",
     "output_type": "stream",
     "text": [
      "c:\\Users\\jason\\AppData\\Local\\Continuum\\Anaconda3\\lib\\site-packages\\gym\\envs\\registration.py:423: UserWarning: \u001b[33mWARN: Custom namespace `ALE` is being overridden by namespace `ALE`. If you are developing a plugin you shouldn't specify a namespace in `register` calls. The namespace is specified through the entry point package metadata.\u001b[0m\n",
      "  logger.warn(\n"
     ]
    }
   ],
   "source": [
    "import gym\n",
    "import math\n",
    "import pickle\n",
    "import numpy as np\n",
    "import matplotlib.pyplot as plt\n",
    "from IPython.display import clear_output\n"
   ]
  },
  {
   "cell_type": "code",
   "execution_count": 3,
   "metadata": {},
   "outputs": [
    {
     "data": {
      "text/plain": [
       "Text(0, 0.5, 'Score')"
      ]
     },
     "execution_count": 3,
     "metadata": {},
     "output_type": "execute_result"
    },
    {
     "data": {
      "image/png": "[encoded data removed]",
      "text/plain": [
       "<Figure size 432x288 with 1 Axes>"
      ]
     },
     "metadata": {
      "needs_background": "light"
     },
     "output_type": "display_data"
    }
   ],
   "source": [
    "ALPHA = 0.5\n",
    "GAMMA = 0.9\n",
    "EPSILON = 1.0\n",
    "EPSILON_DECAY = 0.99995\n",
    "EPSILON_MIN = 0.001\n",
    "\n",
    "REWARD_SHAPING = 1000\n",
    "\n",
    "EPOCHS = 100\n",
    "EPISODES = 1000\n",
    "ENV_NAME = \"CartPole-v1\"\n",
    "\n",
    "RANGES = [[-2.4, 2.4], [-4, 4], [-0.2095, 0.2095], [-4, 4]]\n",
    "# STEPS = (0.1, 0.1, math.radians(1), 0.1)\n",
    "STEPS = (0.1, 0.2, math.radians(1), 0.2)\n",
    "\n",
    "Q_LEARNING = \"QLEARNING\"\n",
    "SARSA = \"SARSA\"\n",
    "\n",
    "plt.title(\"Training Data\")\n",
    "plt.xlabel(\"Episodes\")\n",
    "plt.ylabel(\"Score\")"
   ]
  },
  {
   "cell_type": "code",
   "execution_count": 4,
   "metadata": {},
   "outputs": [],
   "source": [
    "def check_decay_length(epsilon, decay, minimum):\n",
    "    i = 0\n",
    "\n",
    "    while epsilon > minimum:\n",
    "        epsilon *= decay\n",
    "        i += 1\n",
    "\n",
    "    return i\n",
    "\n",
    "\n",
    "def save(model, path):\n",
    "    with open(path, \"wb\") as f:\n",
    "        pickle.dump(model, f)\n",
    "\n",
    "\n",
    "def load(path):\n",
    "    with open(path, \"rb\") as f:\n",
    "        agent = pickle.load(f)\n",
    "\n",
    "    print(\"Epochs:\", agent.epochs)\n",
    "    return agent\n"
   ]
  },
  {
   "cell_type": "code",
   "execution_count": 5,
   "metadata": {},
   "outputs": [
    {
     "data": {
      "text/plain": [
       "138152"
      ]
     },
     "execution_count": 5,
     "metadata": {},
     "output_type": "execute_result"
    }
   ],
   "source": [
    "check_decay_length(EPSILON, EPSILON_DECAY, EPSILON_MIN)\n"
   ]
  },
  {
   "cell_type": "code",
   "execution_count": 17,
   "metadata": {},
   "outputs": [],
   "source": [
    "class QTable:\n",
    "    def __init__(\n",
    "        self,\n",
    "        ranges=RANGES,\n",
    "        steps=STEPS,\n",
    "        agent_type=Q_LEARNING,\n",
    "        alpha=ALPHA,\n",
    "        gamma=GAMMA,\n",
    "        env_name=ENV_NAME,\n",
    "    ):\n",
    "        \"\"\"\n",
    "        :param np_arr q_table: state, state, ... action\n",
    "        :param float[] start: start values of each observation space\n",
    "        :param int[] step: distance of each step\n",
    "        \"\"\"\n",
    "\n",
    "        # Using round() instead of int due to floating point error\n",
    "        shape = [\n",
    "            round((value_range[1] - value_range[0]) / steps[i]) + 1\n",
    "            for i, value_range in enumerate(ranges)\n",
    "        ]\n",
    "\n",
    "        action_space = gym.make(env_name).action_space.n\n",
    "        shape.append(action_space)\n",
    "\n",
    "        shape = tuple(shape)\n",
    "        self.q_table = np.zeros(shape)\n",
    "\n",
    "        self.steps = steps\n",
    "        self.agent_type = agent_type\n",
    "\n",
    "        self.alpha = alpha\n",
    "        self.gamma = gamma\n",
    "\n",
    "    def _discrete(self, state):\n",
    "        steps = self.steps\n",
    "        discrete_state = [int(state[i] / steps[i]) for i in range(len(state))]\n",
    "\n",
    "        return discrete_state\n",
    "\n",
    "    def _q_func(self, reward, q_current_value, q_forward_value):\n",
    "        alpha = self.alpha\n",
    "        gamma = self.gamma\n",
    "\n",
    "        q_value = q_current_value + alpha * (\n",
    "            reward + gamma * q_forward_value - q_current_value\n",
    "        )\n",
    "        return q_value\n",
    "\n",
    "    def _get_sub_table(self, state):\n",
    "        q_sub_table = self.q_table\n",
    "\n",
    "        discrete_state = self._discrete(state)\n",
    "\n",
    "        for index in discrete_state:\n",
    "            q_sub_table = q_sub_table[index]\n",
    "\n",
    "        return q_sub_table\n",
    "\n",
    "    def get_value(self, state, action=None):\n",
    "        q_value = self._get_sub_table(state)\n",
    "\n",
    "        if action is not None:\n",
    "            q_value = q_value[action]\n",
    "\n",
    "        return q_value\n",
    "\n",
    "    def _update_value(self, state, action, update_value):\n",
    "        \"\"\"\n",
    "        :param float update_value: Value to update table cell with\n",
    "        \"\"\"\n",
    "\n",
    "        q_sub_table = self._get_sub_table(state)\n",
    "\n",
    "        # * Some real jargony pass-by-reference wizerdry going on here\n",
    "        # * Essentially, navigate through n-dimensions a long a list of indices and get the final cell reference\n",
    "        q_sub_table[action] = update_value\n",
    "\n",
    "    def update_table(self, state, forward_state, action, reward):\n",
    "        \"\"\"\n",
    "        :param int action: Discrete action, or index of best choice in q_table\n",
    "        \"\"\"\n",
    "\n",
    "        agent_type = self.agent_type\n",
    "\n",
    "        q_current = self.get_value(state, action)\n",
    "        q_forward = self.get_value(forward_state)\n",
    "        if agent_type == Q_LEARNING:\n",
    "            q_forward = np.max(q_forward)\n",
    "        else:\n",
    "            q_forward = np.average(q_forward)\n",
    "\n",
    "        update_value = self._q_func(reward, q_current, q_forward)\n",
    "        self._update_value(state, action, update_value)\n"
   ]
  },
  {
   "cell_type": "code",
   "execution_count": 7,
   "metadata": {},
   "outputs": [
    {
     "data": {
      "text/plain": [
       "(49, 41, 25, 41, 2)"
      ]
     },
     "execution_count": 7,
     "metadata": {},
     "output_type": "execute_result"
    }
   ],
   "source": [
    "q = QTable(RANGES, STEPS)\n",
    "q.q_table.shape\n"
   ]
  },
  {
   "cell_type": "code",
   "execution_count": 8,
   "metadata": {},
   "outputs": [
    {
     "name": "stdout",
     "output_type": "stream",
     "text": [
      "48\n",
      "49\n"
     ]
    }
   ],
   "source": [
    "print(int((2.4 - -2.4) / 0.1 + 1))\n",
    "print(round((2.4 - -2.4) / 0.1 + 1))\n"
   ]
  },
  {
   "cell_type": "code",
   "execution_count": 9,
   "metadata": {},
   "outputs": [
    {
     "name": "stdout",
     "output_type": "stream",
     "text": [
      "[0, 0, 0, 0]\n",
      "[1, -1, -11, -2]\n"
     ]
    }
   ],
   "source": [
    "print(q._discrete([0, 0, 0, 0]))\n",
    "print(q._discrete([0.1, -0.2, math.radians(-11), -0.4]))\n"
   ]
  },
  {
   "cell_type": "code",
   "execution_count": 10,
   "metadata": {},
   "outputs": [
    {
     "data": {
      "text/plain": [
       "array([0., 0.])"
      ]
     },
     "execution_count": 10,
     "metadata": {},
     "output_type": "execute_result"
    }
   ],
   "source": [
    "state = [0.1, -0.2, math.radians(-11), -0.4]\n",
    "q.get_value(state)"
   ]
  },
  {
   "cell_type": "code",
   "execution_count": 11,
   "metadata": {},
   "outputs": [],
   "source": [
    "q.update_table([0.1, -0.2, math.radians(-11), -0.4], [0.1, -0.2, math.radians(-12), -0.4], 0, 1000)"
   ]
  },
  {
   "cell_type": "code",
   "execution_count": 12,
   "metadata": {},
   "outputs": [
    {
     "name": "stdout",
     "output_type": "stream",
     "text": [
      "500.0\n"
     ]
    }
   ],
   "source": [
    "q_flat = q.q_table.flatten()\n",
    "\n",
    "for cell in q_flat: \n",
    "    if cell != 0:\n",
    "        print(cell)"
   ]
  },
  {
   "cell_type": "code",
   "execution_count": 25,
   "metadata": {},
   "outputs": [],
   "source": [
    "class QAgent:\n",
    "    def __init__(\n",
    "        self,\n",
    "        agent_type=Q_LEARNING,\n",
    "        env_name=ENV_NAME,\n",
    "        epsilon_decay=EPSILON_DECAY,\n",
    "        epsilon_min=EPSILON_MIN,\n",
    "        ranges=RANGES,\n",
    "        steps=STEPS,\n",
    "    ):\n",
    "        env = gym.make(env_name)\n",
    "        env.seed(0)\n",
    "\n",
    "        self.env = env\n",
    "\n",
    "        self.rewards = []\n",
    "        self.epoch_rewards = []\n",
    "        self.epochs = 0\n",
    "\n",
    "        self.q_table = QTable(\n",
    "            ranges=ranges, steps=steps, agent_type=agent_type, env_name=env_name\n",
    "        )\n",
    "        self.epsilon = EPSILON\n",
    "        self.epsilon_decay = epsilon_decay\n",
    "        self.epsilon_min = epsilon_min\n",
    "\n",
    "        self.agent_type = agent_type\n",
    "\n",
    "    def evaluate(self, episodes=EPISODES, render=False):\n",
    "        rewards = self.rewards\n",
    "        q_table = self.q_table\n",
    "        epsilon = self.epsilon\n",
    "\n",
    "        env = self.env\n",
    "\n",
    "        for _ in range(episodes):\n",
    "            state = env.reset()\n",
    "            score = 1\n",
    "            done = False\n",
    "\n",
    "            while not done:\n",
    "                if render:\n",
    "                    env.render()\n",
    "\n",
    "                if np.random.rand() > epsilon or render:\n",
    "                    action = np.argmax(q_table.get_value(state))\n",
    "                else:\n",
    "                    action = env.action_space.sample()\n",
    "\n",
    "                forward_state, reward, done, _ = env.step(action)\n",
    "\n",
    "                score += reward\n",
    "\n",
    "                if done:\n",
    "                    # if score == 200:\n",
    "                    # self.evaluate(episodes=1, render=True)\n",
    "                    # score = REWARD_SHAPING\n",
    "\n",
    "                    break\n",
    "\n",
    "                q_table.update_table(state, forward_state, action, reward)\n",
    "\n",
    "                state = forward_state\n",
    "\n",
    "            rewards.append(score)\n",
    "\n",
    "            epsilon *= self.epsilon_decay\n",
    "            epsilon = max(self.epsilon_min, epsilon)\n",
    "\n",
    "        self.epsilon = epsilon\n",
    "\n",
    "    def train(self, episodes=EPISODES, epochs=EPOCHS):\n",
    "        epoch_rewards = self.epoch_rewards\n",
    "\n",
    "        for i in range(epochs):\n",
    "            self.evaluate(episodes)\n",
    "\n",
    "            self.epochs += 1\n",
    "            epoch_reward = round(np.mean(self.rewards[-episodes:]))\n",
    "            epoch_rewards.append(epoch_reward)\n",
    "\n",
    "            clear_output(wait=True)\n",
    "            print(\n",
    "                \"Agent:\",\n",
    "                self.agent_type,\n",
    "                \"\\t| Epoch: \",\n",
    "                self.epochs,\n",
    "                \"\\t| Avg. Reward: \",\n",
    "                epoch_reward,\n",
    "            )\n",
    "            self.display()\n",
    "\n",
    "    def display(self):\n",
    "        plt.plot(self.rewards)\n",
    "        plt.show()\n"
   ]
  },
  {
   "cell_type": "code",
   "execution_count": 14,
   "metadata": {},
   "outputs": [
    {
     "name": "stderr",
     "output_type": "stream",
     "text": [
      "c:\\Users\\jason\\AppData\\Local\\Continuum\\Anaconda3\\lib\\site-packages\\gym\\core.py:200: DeprecationWarning: \u001b[33mWARN: Function `env.seed(seed)` is marked as deprecated and will be removed in the future. Please use `env.reset(seed=seed)` instead.\u001b[0m\n",
      "  deprecation(\n"
     ]
    }
   ],
   "source": [
    "q_agent = QAgent()"
   ]
  },
  {
   "cell_type": "code",
   "execution_count": 15,
   "metadata": {},
   "outputs": [
    {
     "name": "stdout",
     "output_type": "stream",
     "text": [
      "230256\n"
     ]
    },
    {
     "data": {
      "text/plain": [
       "(49, 41, 25, 41, 2)"
      ]
     },
     "execution_count": 15,
     "metadata": {},
     "output_type": "execute_result"
    }
   ],
   "source": [
    "print(check_decay_length(EPSILON, 0.99997, EPSILON_MIN))\n",
    "sarsa_agent = QAgent(agent_type=\"SARSA\", epsilon_decay=0.9997)\n",
    "sarsa_agent.q_table.q_table.shape"
   ]
  },
  {
   "cell_type": "code",
   "execution_count": 21,
   "metadata": {},
   "outputs": [
    {
     "name": "stdout",
     "output_type": "stream",
     "text": [
      "Agent: QLEARNING \t| Epoch:  150 \t| Avg. Reward:  141\n"
     ]
    },
    {
     "data": {
      "image/png": "[encoded data removed]",
      "text/plain": [
       "<Figure size 432x288 with 1 Axes>"
      ]
     },
     "metadata": {
      "needs_background": "light"
     },
     "output_type": "display_data"
    }
   ],
   "source": [
    "q_agent.train(epochs=50)\n",
    "save(q_agent, \"ql_cartpole.bin\")"
   ]
  },
  {
   "cell_type": "code",
   "execution_count": 16,
   "metadata": {},
   "outputs": [
    {
     "name": "stdout",
     "output_type": "stream",
     "text": [
      "Agent: SARSA \t| Epoch:  125 \t| Avg. Reward:  134\n"
     ]
    },
    {
     "data": {
      "image/png": "[encoded data removed]",
      "text/plain": [
       "<Figure size 432x288 with 1 Axes>"
      ]
     },
     "metadata": {
      "needs_background": "light"
     },
     "output_type": "display_data"
    }
   ],
   "source": [
    "sarsa_agent.train(epochs=24)\n"
   ]
  },
  {
   "cell_type": "code",
   "execution_count": 17,
   "metadata": {},
   "outputs": [
    {
     "data": {
      "text/plain": [
       "101000"
      ]
     },
     "execution_count": 17,
     "metadata": {},
     "output_type": "execute_result"
    }
   ],
   "source": [
    "len(sarsa_agent.rewards)"
   ]
  },
  {
   "cell_type": "code",
   "execution_count": 17,
   "metadata": {},
   "outputs": [],
   "source": [
    "save(sarsa_agent, \"sarsa_cartpole_125.bin\")"
   ]
  },
  {
   "cell_type": "code",
   "execution_count": 25,
   "metadata": {},
   "outputs": [
    {
     "name": "stdout",
     "output_type": "stream",
     "text": [
      "Epochs: 150\n"
     ]
    }
   ],
   "source": [
    "q_agent = load(\"ql_cartpole_150.bin\")"
   ]
  },
  {
   "cell_type": "code",
   "execution_count": 29,
   "metadata": {},
   "outputs": [],
   "source": [
    "q_agent.evaluate(episodes=1, render=True)"
   ]
  },
  {
   "cell_type": "code",
   "execution_count": 20,
   "metadata": {},
   "outputs": [
    {
     "name": "stdout",
     "output_type": "stream",
     "text": [
      "Epochs: 125\n"
     ]
    },
    {
     "data": {
      "text/plain": [
       "125000"
      ]
     },
     "execution_count": 20,
     "metadata": {},
     "output_type": "execute_result"
    }
   ],
   "source": [
    "sarsa_agent = load(\"sarsa_cartpole_125.bin\")\n",
    "len(sarsa_agent.rewards)"
   ]
  },
  {
   "cell_type": "code",
   "execution_count": 24,
   "metadata": {},
   "outputs": [],
   "source": [
    "sarsa_agent.evaluate(episodes=1, render=True)"
   ]
  },
  {
   "cell_type": "markdown",
   "metadata": {},
   "source": [
    "## Mountain Car\n"
   ]
  },
  {
   "cell_type": "code",
   "execution_count": 16,
   "metadata": {},
   "outputs": [],
   "source": [
    "ENV_NAME = \"MountainCar-v0\"\n",
    "\n",
    "RANGES = [[-10, 10], [-10, 10]]\n",
    "STEPS = (1, 1)"
   ]
  },
  {
   "cell_type": "code",
   "execution_count": 26,
   "metadata": {},
   "outputs": [
    {
     "name": "stderr",
     "output_type": "stream",
     "text": [
      "c:\\Users\\jason\\AppData\\Local\\Continuum\\Anaconda3\\lib\\site-packages\\gym\\core.py:200: DeprecationWarning: \u001b[33mWARN: Function `env.seed(seed)` is marked as deprecated and will be removed in the future. Please use `env.reset(seed=seed)` instead.\u001b[0m\n",
      "  deprecation(\n"
     ]
    },
    {
     "data": {
      "text/plain": [
       "(21, 21, 3)"
      ]
     },
     "execution_count": 26,
     "metadata": {},
     "output_type": "execute_result"
    }
   ],
   "source": [
    "q_agent = QAgent(env_name=ENV_NAME, ranges=RANGES, steps=STEPS)\n",
    "q_agent.q_table.q_table.shape"
   ]
  },
  {
   "cell_type": "code",
   "execution_count": 27,
   "metadata": {},
   "outputs": [
    {
     "name": "stdout",
     "output_type": "stream",
     "text": [
      "Agent: QLEARNING \t| Epoch:  5 \t| Avg. Reward:  -199\n"
     ]
    },
    {
     "data": {
      "image/png": "[encoded data removed]",
      "text/plain": [
       "<Figure size 432x288 with 1 Axes>"
      ]
     },
     "metadata": {
      "needs_background": "light"
     },
     "output_type": "display_data"
    },
    {
     "ename": "KeyboardInterrupt",
     "evalue": "",
     "output_type": "error",
     "traceback": [
      "\u001b[1;31m---------------------------------------------------------------------------\u001b[0m",
      "\u001b[1;31mKeyboardInterrupt\u001b[0m                         Traceback (most recent call last)",
      "\u001b[1;32mc:\\Users\\jason\\Desktop\\PRG-2022-05-23 - RPI Learning and Advanced Game AI Summer 2022\\week2\\class0\\cartpole-ql-v1.ipynb Cell 28'\u001b[0m in \u001b[0;36m<cell line: 1>\u001b[1;34m()\u001b[0m\n\u001b[1;32m----> <a href='vscode-notebook-cell:/c%3A/Users/jason/Desktop/PRG-2022-05-23%20-%20RPI%20Learning%20and%20Advanced%20Game%20AI%20Summer%202022/week2/class0/cartpole-ql-v1.ipynb#ch0000027?line=0'>1</a>\u001b[0m q_agent\u001b[39m.\u001b[39;49mtrain(epochs\u001b[39m=\u001b[39;49m\u001b[39m50\u001b[39;49m)\n",
      "\u001b[1;32mc:\\Users\\jason\\Desktop\\PRG-2022-05-23 - RPI Learning and Advanced Game AI Summer 2022\\week2\\class0\\cartpole-ql-v1.ipynb Cell 14'\u001b[0m in \u001b[0;36mQAgent.train\u001b[1;34m(self, episodes, epochs)\u001b[0m\n\u001b[0;32m     <a href='vscode-notebook-cell:/c%3A/Users/jason/Desktop/PRG-2022-05-23%20-%20RPI%20Learning%20and%20Advanced%20Game%20AI%20Summer%202022/week2/class0/cartpole-ql-v1.ipynb#ch0000013?line=74'>75</a>\u001b[0m epoch_rewards \u001b[39m=\u001b[39m \u001b[39mself\u001b[39m\u001b[39m.\u001b[39mepoch_rewards\n\u001b[0;32m     <a href='vscode-notebook-cell:/c%3A/Users/jason/Desktop/PRG-2022-05-23%20-%20RPI%20Learning%20and%20Advanced%20Game%20AI%20Summer%202022/week2/class0/cartpole-ql-v1.ipynb#ch0000013?line=76'>77</a>\u001b[0m \u001b[39mfor\u001b[39;00m i \u001b[39min\u001b[39;00m \u001b[39mrange\u001b[39m(epochs):\n\u001b[1;32m---> <a href='vscode-notebook-cell:/c%3A/Users/jason/Desktop/PRG-2022-05-23%20-%20RPI%20Learning%20and%20Advanced%20Game%20AI%20Summer%202022/week2/class0/cartpole-ql-v1.ipynb#ch0000013?line=77'>78</a>\u001b[0m     \u001b[39mself\u001b[39;49m\u001b[39m.\u001b[39;49mevaluate(episodes)\n\u001b[0;32m     <a href='vscode-notebook-cell:/c%3A/Users/jason/Desktop/PRG-2022-05-23%20-%20RPI%20Learning%20and%20Advanced%20Game%20AI%20Summer%202022/week2/class0/cartpole-ql-v1.ipynb#ch0000013?line=79'>80</a>\u001b[0m     \u001b[39mself\u001b[39m\u001b[39m.\u001b[39mepochs \u001b[39m+\u001b[39m\u001b[39m=\u001b[39m \u001b[39m1\u001b[39m\n\u001b[0;32m     <a href='vscode-notebook-cell:/c%3A/Users/jason/Desktop/PRG-2022-05-23%20-%20RPI%20Learning%20and%20Advanced%20Game%20AI%20Summer%202022/week2/class0/cartpole-ql-v1.ipynb#ch0000013?line=80'>81</a>\u001b[0m     epoch_reward \u001b[39m=\u001b[39m \u001b[39mround\u001b[39m(np\u001b[39m.\u001b[39mmean(\u001b[39mself\u001b[39m\u001b[39m.\u001b[39mrewards[\u001b[39m-\u001b[39mepisodes:]))\n",
      "\u001b[1;32mc:\\Users\\jason\\Desktop\\PRG-2022-05-23 - RPI Learning and Advanced Game AI Summer 2022\\week2\\class0\\cartpole-ql-v1.ipynb Cell 14'\u001b[0m in \u001b[0;36mQAgent.evaluate\u001b[1;34m(self, episodes, render)\u001b[0m\n\u001b[0;32m     <a href='vscode-notebook-cell:/c%3A/Users/jason/Desktop/PRG-2022-05-23%20-%20RPI%20Learning%20and%20Advanced%20Game%20AI%20Summer%202022/week2/class0/cartpole-ql-v1.ipynb#ch0000013?line=42'>43</a>\u001b[0m     env\u001b[39m.\u001b[39mrender()\n\u001b[0;32m     <a href='vscode-notebook-cell:/c%3A/Users/jason/Desktop/PRG-2022-05-23%20-%20RPI%20Learning%20and%20Advanced%20Game%20AI%20Summer%202022/week2/class0/cartpole-ql-v1.ipynb#ch0000013?line=44'>45</a>\u001b[0m \u001b[39mif\u001b[39;00m np\u001b[39m.\u001b[39mrandom\u001b[39m.\u001b[39mrand() \u001b[39m>\u001b[39m epsilon \u001b[39mor\u001b[39;00m render:\n\u001b[1;32m---> <a href='vscode-notebook-cell:/c%3A/Users/jason/Desktop/PRG-2022-05-23%20-%20RPI%20Learning%20and%20Advanced%20Game%20AI%20Summer%202022/week2/class0/cartpole-ql-v1.ipynb#ch0000013?line=45'>46</a>\u001b[0m     action \u001b[39m=\u001b[39m np\u001b[39m.\u001b[39;49margmax(q_table\u001b[39m.\u001b[39;49mget_value(state))\n\u001b[0;32m     <a href='vscode-notebook-cell:/c%3A/Users/jason/Desktop/PRG-2022-05-23%20-%20RPI%20Learning%20and%20Advanced%20Game%20AI%20Summer%202022/week2/class0/cartpole-ql-v1.ipynb#ch0000013?line=46'>47</a>\u001b[0m \u001b[39melse\u001b[39;00m:\n\u001b[0;32m     <a href='vscode-notebook-cell:/c%3A/Users/jason/Desktop/PRG-2022-05-23%20-%20RPI%20Learning%20and%20Advanced%20Game%20AI%20Summer%202022/week2/class0/cartpole-ql-v1.ipynb#ch0000013?line=47'>48</a>\u001b[0m     action \u001b[39m=\u001b[39m env\u001b[39m.\u001b[39maction_space\u001b[39m.\u001b[39msample()\n",
      "File \u001b[1;32m<__array_function__ internals>:5\u001b[0m, in \u001b[0;36margmax\u001b[1;34m(*args, **kwargs)\u001b[0m\n",
      "File \u001b[1;32mc:\\Users\\jason\\AppData\\Local\\Continuum\\Anaconda3\\lib\\site-packages\\numpy\\core\\fromnumeric.py:1195\u001b[0m, in \u001b[0;36margmax\u001b[1;34m(a, axis, out)\u001b[0m\n\u001b[0;32m   <a href='file:///c%3A/Users/jason/AppData/Local/Continuum/Anaconda3/lib/site-packages/numpy/core/fromnumeric.py?line=1120'>1121</a>\u001b[0m \u001b[39m@array_function_dispatch\u001b[39m(_argmax_dispatcher)\n\u001b[0;32m   <a href='file:///c%3A/Users/jason/AppData/Local/Continuum/Anaconda3/lib/site-packages/numpy/core/fromnumeric.py?line=1121'>1122</a>\u001b[0m \u001b[39mdef\u001b[39;00m \u001b[39margmax\u001b[39m(a, axis\u001b[39m=\u001b[39m\u001b[39mNone\u001b[39;00m, out\u001b[39m=\u001b[39m\u001b[39mNone\u001b[39;00m):\n\u001b[0;32m   <a href='file:///c%3A/Users/jason/AppData/Local/Continuum/Anaconda3/lib/site-packages/numpy/core/fromnumeric.py?line=1122'>1123</a>\u001b[0m     \u001b[39m\"\"\"\u001b[39;00m\n\u001b[0;32m   <a href='file:///c%3A/Users/jason/AppData/Local/Continuum/Anaconda3/lib/site-packages/numpy/core/fromnumeric.py?line=1123'>1124</a>\u001b[0m \u001b[39m    Returns the indices of the maximum values along an axis.\u001b[39;00m\n\u001b[0;32m   <a href='file:///c%3A/Users/jason/AppData/Local/Continuum/Anaconda3/lib/site-packages/numpy/core/fromnumeric.py?line=1124'>1125</a>\u001b[0m \n\u001b[1;32m   (...)\u001b[0m\n\u001b[0;32m   <a href='file:///c%3A/Users/jason/AppData/Local/Continuum/Anaconda3/lib/site-packages/numpy/core/fromnumeric.py?line=1192'>1193</a>\u001b[0m \n\u001b[0;32m   <a href='file:///c%3A/Users/jason/AppData/Local/Continuum/Anaconda3/lib/site-packages/numpy/core/fromnumeric.py?line=1193'>1194</a>\u001b[0m \u001b[39m    \"\"\"\u001b[39;00m\n\u001b[1;32m-> <a href='file:///c%3A/Users/jason/AppData/Local/Continuum/Anaconda3/lib/site-packages/numpy/core/fromnumeric.py?line=1194'>1195</a>\u001b[0m     \u001b[39mreturn\u001b[39;00m _wrapfunc(a, \u001b[39m'\u001b[39;49m\u001b[39margmax\u001b[39;49m\u001b[39m'\u001b[39;49m, axis\u001b[39m=\u001b[39;49maxis, out\u001b[39m=\u001b[39;49mout)\n",
      "File \u001b[1;32mc:\\Users\\jason\\AppData\\Local\\Continuum\\Anaconda3\\lib\\site-packages\\numpy\\core\\fromnumeric.py:57\u001b[0m, in \u001b[0;36m_wrapfunc\u001b[1;34m(obj, method, *args, **kwds)\u001b[0m\n\u001b[0;32m     <a href='file:///c%3A/Users/jason/AppData/Local/Continuum/Anaconda3/lib/site-packages/numpy/core/fromnumeric.py?line=53'>54</a>\u001b[0m     \u001b[39mreturn\u001b[39;00m _wrapit(obj, method, \u001b[39m*\u001b[39margs, \u001b[39m*\u001b[39m\u001b[39m*\u001b[39mkwds)\n\u001b[0;32m     <a href='file:///c%3A/Users/jason/AppData/Local/Continuum/Anaconda3/lib/site-packages/numpy/core/fromnumeric.py?line=55'>56</a>\u001b[0m \u001b[39mtry\u001b[39;00m:\n\u001b[1;32m---> <a href='file:///c%3A/Users/jason/AppData/Local/Continuum/Anaconda3/lib/site-packages/numpy/core/fromnumeric.py?line=56'>57</a>\u001b[0m     \u001b[39mreturn\u001b[39;00m bound(\u001b[39m*\u001b[39margs, \u001b[39m*\u001b[39m\u001b[39m*\u001b[39mkwds)\n\u001b[0;32m     <a href='file:///c%3A/Users/jason/AppData/Local/Continuum/Anaconda3/lib/site-packages/numpy/core/fromnumeric.py?line=57'>58</a>\u001b[0m \u001b[39mexcept\u001b[39;00m \u001b[39mTypeError\u001b[39;00m:\n\u001b[0;32m     <a href='file:///c%3A/Users/jason/AppData/Local/Continuum/Anaconda3/lib/site-packages/numpy/core/fromnumeric.py?line=58'>59</a>\u001b[0m     \u001b[39m# A TypeError occurs if the object does have such a method in its\u001b[39;00m\n\u001b[0;32m     <a href='file:///c%3A/Users/jason/AppData/Local/Continuum/Anaconda3/lib/site-packages/numpy/core/fromnumeric.py?line=59'>60</a>\u001b[0m     \u001b[39m# class, but its signature is not identical to that of NumPy's. This\u001b[39;00m\n\u001b[1;32m   (...)\u001b[0m\n\u001b[0;32m     <a href='file:///c%3A/Users/jason/AppData/Local/Continuum/Anaconda3/lib/site-packages/numpy/core/fromnumeric.py?line=63'>64</a>\u001b[0m     \u001b[39m# Call _wrapit from within the except clause to ensure a potential\u001b[39;00m\n\u001b[0;32m     <a href='file:///c%3A/Users/jason/AppData/Local/Continuum/Anaconda3/lib/site-packages/numpy/core/fromnumeric.py?line=64'>65</a>\u001b[0m     \u001b[39m# exception has a traceback chain.\u001b[39;00m\n\u001b[0;32m     <a href='file:///c%3A/Users/jason/AppData/Local/Continuum/Anaconda3/lib/site-packages/numpy/core/fromnumeric.py?line=65'>66</a>\u001b[0m     \u001b[39mreturn\u001b[39;00m _wrapit(obj, method, \u001b[39m*\u001b[39margs, \u001b[39m*\u001b[39m\u001b[39m*\u001b[39mkwds)\n",
      "\u001b[1;31mKeyboardInterrupt\u001b[0m: "
     ]
    }
   ],
   "source": [
    "q_agent.train(epochs=50)\n"
   ]
  }
 ],
 "metadata": {
  "interpreter": {
   "hash": "f7c1fa83a45090c7dcf13129008a160cc437ddcdb7cd57cdda701723205ddb7e"
  },
  "kernelspec": {
   "display_name": "Python 3.9.12 ('base')",
   "language": "python",
   "name": "python3"
  },
  "language_info": {
   "codemirror_mode": {
    "name": "ipython",
    "version": 3
   },
   "file_extension": ".py",
   "mimetype": "text/x-python",
   "name": "python",
   "nbconvert_exporter": "python",
   "pygments_lexer": "ipython3",
   "version": "3.9.12"
  },
  "orig_nbformat": 4
 },
 "nbformat": 4,
 "nbformat_minor": 2
}
