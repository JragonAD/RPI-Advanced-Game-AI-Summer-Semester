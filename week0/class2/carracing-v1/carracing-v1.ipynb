{
 "cells": [
  {
   "cell_type": "code",
   "execution_count": 2,
   "metadata": {},
   "outputs": [],
   "source": [
    "# !pip install Box2D-py\n",
    "# https://stackoverflow.com/questions/51811263/problems-pip-installing-box2d\n",
    "# https://stackoverflow.com/questions/54027942/fatal-error-c1083-cannot-open-include-file-io-h-no-such-file-or-directory\n",
    "\n",
    "#* Visual Studio C++ 14.0\n",
    "#* Desktop development with C++\n",
    "#* * MSVC build tools\n",
    "#* * C++ CMake tools\n",
    "#* * C++ AddressSanitizer\n",
    "#* * Windows 11 SDK <-- important!\n",
    "\n"
   ]
  },
  {
   "cell_type": "code",
   "execution_count": 3,
   "metadata": {},
   "outputs": [],
   "source": [
    "# !pip install gym --upgrade\n",
    "# Update to gym version 0.24.0, which enables continuous bool in Car Racer\n",
    "# Used to set action space as Discrete(5)"
   ]
  },
  {
   "cell_type": "code",
   "execution_count": 4,
   "metadata": {},
   "outputs": [],
   "source": [
    "# !pip install gym[box2d]\n",
    "#! DependencyNotInstalled: pygame is not installed, run `pip install gym[box2d]`"
   ]
  },
  {
   "cell_type": "code",
   "execution_count": 5,
   "metadata": {},
   "outputs": [
    {
     "name": "stderr",
     "output_type": "stream",
     "text": [
      "c:\\Users\\jason\\AppData\\Local\\Continuum\\Anaconda3\\lib\\site-packages\\gym\\envs\\registration.py:423: UserWarning: \u001b[33mWARN: Custom namespace `ALE` is being overridden by namespace `ALE`. If you are developing a plugin you shouldn't specify a namespace in `register` calls. The namespace is specified through the entry point package metadata.\u001b[0m\n",
      "  logger.warn(\n"
     ]
    }
   ],
   "source": [
    "# https://www.gymlibrary.ml/environments/box2d/car_racing/\n",
    "\n",
    "import gym\n",
    "\n",
    "import numpy as np\n"
   ]
  },
  {
   "cell_type": "code",
   "execution_count": 6,
   "metadata": {},
   "outputs": [],
   "source": [
    "POP = 100\n",
    "GENS = 8\n",
    "\n",
    "EPISODES = 8\n",
    "\n",
    "MUT_VAR = 0.1\n",
    "\n",
    "MODEL_PATH = \"model.bin\"\n",
    "\n",
    "ARCH = (96 ** 2, 24 ** 2, 5)"
   ]
  },
  {
   "cell_type": "code",
   "execution_count": 7,
   "metadata": {},
   "outputs": [],
   "source": [
    "def grayscale(a):\n",
    "    img = np.mean(a, axis=2)\n",
    "    return img\n",
    "\n",
    "\n",
    "def relu(a):\n",
    "    return np.where(a > 0, a, 0)\n",
    "\n",
    "\n",
    "def softmax(a):\n",
    "    return np.exp(a) / np.sum(np.exp(a))\n",
    "\n",
    "\n",
    "def time_elapsed(prev, cur, round_digit=8):\n",
    "    delta_time = cur - prev\n",
    "    return f\"\\tTime elapsed: {round(delta_time, round_digit)} seconds\"\n"
   ]
  },
  {
   "cell_type": "code",
   "execution_count": 8,
   "metadata": {},
   "outputs": [
    {
     "data": {
      "text/plain": [
       "' # Get observation space info and test grayscale\\nenv = gym.make(\"CarRacing-v1\", continuous=False)\\n\\nprint(env.action_space)\\n\\nobs = env.reset()\\n# for row in obs:\\n    # print(row)\\n    \\nobs = grayscale(obs)\\n\\nobs.resize((24, 24))\\n\\nfor row in obs: \\n    print(row)\\n    \\nfrom matplotlib import pyplot as plt\\nplt.imshow(obs, interpolation=\\'nearest\\')\\nplt.show()\\n\\nenv.close()\\n'"
      ]
     },
     "execution_count": 8,
     "metadata": {},
     "output_type": "execute_result"
    }
   ],
   "source": [
    "\"\"\" # Get observation space info and test grayscale\n",
    "env = gym.make(\"CarRacing-v1\", continuous=False)\n",
    "\n",
    "print(env.action_space)\n",
    "\n",
    "obs = env.reset()\n",
    "# for row in obs:\n",
    "    # print(row)\n",
    "    \n",
    "obs = grayscale(obs)\n",
    "\n",
    "obs.resize((24, 24))\n",
    "\n",
    "for row in obs: \n",
    "    print(row)\n",
    "    \n",
    "from matplotlib import pyplot as plt\n",
    "plt.imshow(obs, interpolation='nearest')\n",
    "plt.show()\n",
    "\n",
    "env.close()\n",
    "\"\"\"\n"
   ]
  },
  {
   "cell_type": "code",
   "execution_count": 9,
   "metadata": {},
   "outputs": [
    {
     "data": {
      "text/plain": [
       "' # Rendering to understand environment\\nepisodes = 5\\nfor episode in range(1, episodes+1):\\n    obs = env.reset()\\n    done = False\\n    score = 0\\n\\n    while not done:\\n        env.render()\\n        action = env.action_space.sample() \\n        obs, reward, done, info = env.step(action)\\n        score += reward\\n\\n    print(f\"Episode: {episode} Score: {score}\")\\nenv.close()\\n'"
      ]
     },
     "execution_count": 9,
     "metadata": {},
     "output_type": "execute_result"
    }
   ],
   "source": [
    "\"\"\" # Rendering to understand environment\n",
    "episodes = 5\n",
    "for episode in range(1, episodes+1):\n",
    "    obs = env.reset()\n",
    "    done = False\n",
    "    score = 0\n",
    "\n",
    "    while not done:\n",
    "        env.render()\n",
    "        action = env.action_space.sample() \n",
    "        obs, reward, done, info = env.step(action)\n",
    "        score += reward\n",
    "\n",
    "    print(f\"Episode: {episode} Score: {score}\")\n",
    "env.close()\n",
    "\"\"\""
   ]
  },
  {
   "cell_type": "code",
   "execution_count": 10,
   "metadata": {},
   "outputs": [],
   "source": [
    "class NN:\n",
    "    def __init__(self, arch, net_to_copy=None, mut_var=MUT_VAR):\n",
    "        if net_to_copy is None:\n",
    "            weights = [\n",
    "                np.random.rand(arch[1], arch[0]),\n",
    "                np.random.rand(arch[2], arch[1]),\n",
    "            ]\n",
    "\n",
    "            biases = [\n",
    "                np.zeros((arch[1],)),\n",
    "                np.zeros((arch[2],)),\n",
    "            ]\n",
    "\n",
    "        else:\n",
    "            weights = net_to_copy.weights\n",
    "            biases = net_to_copy.biases\n",
    "\n",
    "            weights = [\n",
    "                weight + np.random.normal(0.0, mut_var, weight.shape)\n",
    "                for weight in weights\n",
    "            ]\n",
    "            biases = [\n",
    "                bias + np.random.normal(0.0, mut_var, bias.shape) for bias in biases\n",
    "            ]\n",
    "\n",
    "        # print([weight.shape for weight in weights])\n",
    "        # print([bias.shape for bias in biases])\n",
    "\n",
    "        self.weights = weights\n",
    "        self.biases = biases\n",
    "\n",
    "    def forward(self, _obs):\n",
    "        weights = self.weights\n",
    "        biases = self.biases\n",
    "\n",
    "        _obs = np.array(_obs)\n",
    "\n",
    "        hidden = relu(np.dot(weights[0], _obs) + biases[0])\n",
    "\n",
    "        output = relu(np.dot(weights[1], hidden) + biases[1])\n",
    "\n",
    "        probabilities = softmax(output)\n",
    "        return np.argmax(probabilities)\n",
    "\n",
    "    def evaluate(self, episodes=EPISODES, render_env=False, record=False):\n",
    "        ep_rewards = []\n",
    "        env = gym.make(\"CarRacing-v1\", continuous=False)\n",
    "\n",
    "        print(env.action_space)\n",
    "\n",
    "        if record:\n",
    "            env = gym.wrappers.Monitor(env, \"recording\")\n",
    "\n",
    "        for i_ep in range(episodes):\n",
    "            _obs = env.reset()\n",
    "            done = False\n",
    "            score = 0\n",
    "\n",
    "            while not done:\n",
    "                if render_env:\n",
    "                    env.render()\n",
    "\n",
    "                action = self.forward(grayscale(_obs).flatten())\n",
    "                # print(action, env.action_space)\n",
    "\n",
    "                _obs, reward, done, _ = env.step(action)\n",
    "                score += reward\n",
    "\n",
    "            ep_rewards.append(score)\n",
    "\n",
    "        env.close()\n",
    "\n",
    "        return np.array(ep_rewards).mean()\n"
   ]
  },
  {
   "cell_type": "code",
   "execution_count": null,
   "metadata": {},
   "outputs": [],
   "source": [
    "nn = NN(ARCH)\n",
    "nn.evaluate()"
   ]
  }
 ],
 "metadata": {
  "interpreter": {
   "hash": "f7c1fa83a45090c7dcf13129008a160cc437ddcdb7cd57cdda701723205ddb7e"
  },
  "kernelspec": {
   "display_name": "Python 3.9.12 ('base')",
   "language": "python",
   "name": "python3"
  },
  "language_info": {
   "codemirror_mode": {
    "name": "ipython",
    "version": 3
   },
   "file_extension": ".py",
   "mimetype": "text/x-python",
   "name": "python",
   "nbconvert_exporter": "python",
   "pygments_lexer": "ipython3",
   "version": "3.9.12"
  },
  "orig_nbformat": 4
 },
 "nbformat": 4,
 "nbformat_minor": 2
}
