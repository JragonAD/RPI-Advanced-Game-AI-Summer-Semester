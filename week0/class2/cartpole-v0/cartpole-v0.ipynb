{
 "cells": [
  {
   "cell_type": "code",
   "execution_count": 88,
   "metadata": {},
   "outputs": [],
   "source": [
    "# 4 input nodes\n",
    "# ReLu\n",
    "# 16 hidden layer nodes\n",
    "# ReLu \n",
    "# 2 output nodes\n",
    "# Softmax"
   ]
  },
  {
   "cell_type": "code",
   "execution_count": 89,
   "metadata": {},
   "outputs": [],
   "source": [
    "import gym \n",
    "import pickle\n",
    "import numpy as np\n",
    "from time import time"
   ]
  },
  {
   "cell_type": "code",
   "execution_count": 90,
   "metadata": {},
   "outputs": [],
   "source": [
    "POPULATION = 32\n",
    "GENERATIONS = 5\n",
    "\n",
    "EPISODES = 8\n",
    "MAX_EP_LEN = 100000\n",
    "\n",
    "MUTATION_VARIANCE = 0.1\n",
    "\n",
    "MODEL_PATH = \"model.bin\"\n",
    "\n",
    "ARCH = (4, 16, 2)"
   ]
  },
  {
   "cell_type": "code",
   "execution_count": 91,
   "metadata": {},
   "outputs": [],
   "source": [
    "def relu(a):\n",
    "    return np.where(a > 0, a, 0)\n",
    "\n",
    "def softmax(a):\n",
    "    # https://www.pythonpool.com/numpy-softmax/#:~:text=Numpy%20softmax%20is%20a%20mathematical%20function%20that%20takes,It%20normalizes%20an%20input%20to%20a%20probability%20distribution.\n",
    "    return np.exp(a) / np.sum(np.exp(a))\n",
    "\n",
    "def time_elapsed(prev, cur, round_digit=8):\n",
    "    delta_time = cur - prev\n",
    "    return f\"\\tTime elapsed: {round(delta_time, round_digit)} seconds\"\n"
   ]
  },
  {
   "cell_type": "code",
   "execution_count": 92,
   "metadata": {},
   "outputs": [],
   "source": [
    "class NN:\n",
    "    def __init__(self, arch, net_to_copy=None, mut_var=MUTATION_VARIANCE):\n",
    "        \"\"\"\n",
    "        Architecture\n",
    "\n",
    "        4 Input nodes with 16 weights each to 16 hidden layer nodes\n",
    "        16 Hidden nodes with 2 weights each to 2 output layer nodes\n",
    "\n",
    "        16 Biases for each of the hidden layer nodes\n",
    "        2 Biases for each of the output layer nodes\n",
    "\n",
    "        (1, 16) -> 1 Layer of 16 Nodes\n",
    "\n",
    "        \"\"\"\n",
    "\n",
    "        if net_to_copy is None:\n",
    "            weights = [\n",
    "                np.random.rand(arch[1], arch[0]),\n",
    "                np.random.rand(arch[2], arch[1]),\n",
    "            ]\n",
    "\n",
    "            biases = [\n",
    "                np.zeros((arch[1],)),\n",
    "                np.zeros((arch[2],)),\n",
    "            ]\n",
    "\n",
    "        else:\n",
    "            weights = net_to_copy.weights\n",
    "            biases = net_to_copy.biases\n",
    "\n",
    "            weights = [\n",
    "                weight + np.random.normal(0.0, mut_var, weight.shape)\n",
    "                for weight in weights\n",
    "            ]\n",
    "            biases = [\n",
    "                bias + np.random.normal(0.0, mut_var, bias.shape) for bias in biases\n",
    "            ]\n",
    "\n",
    "        self.weights = weights\n",
    "        self.biases = biases\n",
    "\n",
    "    def forward(self, _obs):\n",
    "        weights = self.weights\n",
    "        biases = self.biases\n",
    "\n",
    "        _obs = np.array(_obs)\n",
    "\n",
    "        hidden = relu(np.dot(weights[0], _obs) + biases[0])\n",
    "        # print(hidden.shape)\n",
    "\n",
    "        output = relu(np.dot(weights[1], hidden) + biases[1])\n",
    "        # print(output.shape)\n",
    "\n",
    "        # print(output)\n",
    "\n",
    "        probabilities = softmax(output)\n",
    "        return np.argmax(\n",
    "            probabilities\n",
    "        )  # Returns index of highest element --> 0, 1 (Perfect for this action space)\n",
    "\n",
    "    def evaluate(\n",
    "        self, episodes=EPISODES, max_ep_len=MAX_EP_LEN, render_env=False, record=False\n",
    "    ):\n",
    "        ep_rewards = []\n",
    "        env = gym.make(\"CartPole-v0\")\n",
    "\n",
    "        if record:\n",
    "            env = gym.wrappers.Monitor(env, \"recording\")\n",
    "\n",
    "        env._max_episode_steps = max_ep_len\n",
    "\n",
    "        for i_ep in range(episodes):\n",
    "            _obs = env.reset()\n",
    "            done = False\n",
    "            score = 0\n",
    "\n",
    "            while not done:\n",
    "                if render_env:\n",
    "                    env.render()\n",
    "\n",
    "                _obs, reward, done, _ = env.step(self.forward(_obs))\n",
    "                score += reward\n",
    "\n",
    "            ep_rewards.append(score)\n",
    "\n",
    "        env.close()\n",
    "\n",
    "        return np.array(ep_rewards).mean()\n"
   ]
  },
  {
   "cell_type": "code",
   "execution_count": 93,
   "metadata": {},
   "outputs": [],
   "source": [
    "# nn = NN()"
   ]
  },
  {
   "cell_type": "code",
   "execution_count": 94,
   "metadata": {},
   "outputs": [],
   "source": [
    "# nn.forward([1, 2, 3, 4])\n"
   ]
  },
  {
   "cell_type": "code",
   "execution_count": 95,
   "metadata": {},
   "outputs": [],
   "source": [
    "# nn.evaluate(render_env=True, record=True)"
   ]
  },
  {
   "cell_type": "code",
   "execution_count": 96,
   "metadata": {},
   "outputs": [],
   "source": [
    "class GA:\n",
    "    def __init__(\n",
    "        self,\n",
    "        arch=ARCH,\n",
    "        pop=POPULATION,\n",
    "        gens=GENERATIONS,\n",
    "        mut_var=MUTATION_VARIANCE,\n",
    "        verbose=False,\n",
    "        eps=EPISODES,\n",
    "        max_ep_len=MAX_EP_LEN,\n",
    "        render_env=False,\n",
    "        record=False,\n",
    "    ):\n",
    "        self.arch = arch\n",
    "        self.pop = pop\n",
    "        self.gens = gens\n",
    "        self.mut_var = mut_var\n",
    "        self.verbose = verbose\n",
    "        self.eps = eps\n",
    "        self.max_ep_len = max_ep_len\n",
    "        self.render_env = render_env\n",
    "        self.record = record\n",
    "\n",
    "        self.nets = [NN(arch) for _ in range(pop)]\n",
    "\n",
    "    def get_best_fit(self):\n",
    "        fitness_arr = []\n",
    "        for i, net in enumerate(self.nets):\n",
    "            prev_time = time()\n",
    "\n",
    "            fitness = self.evaluate(net)\n",
    "            if self.verbose:\n",
    "                print(\n",
    "                    \"Network:\",\n",
    "                    i + 1,\n",
    "                    \"\\tFitness:\",\n",
    "                    round(fitness),\n",
    "                    time_elapsed(prev_time, time()),\n",
    "                )\n",
    "\n",
    "            fitness_arr.append(fitness)\n",
    "\n",
    "            if fitness == self.max_ep_len:\n",
    "                break\n",
    "\n",
    "        fitnesses = np.array(fitness_arr)\n",
    "        i_best_net = np.argmax(fitness_arr)\n",
    "        best_net_score = fitnesses[i_best_net]\n",
    "        best_net = self.nets[i_best_net]\n",
    "\n",
    "        # best_net.evaluate(self.eps, self.max_ep_len, True)\n",
    "\n",
    "        return best_net, best_net_score, fitnesses\n",
    "\n",
    "    def mutate_nets(self, best_net):\n",
    "        new_nets = [NN(self.arch, best_net, self.mut_var) for _ in range(self.pop - 1)]\n",
    "        return new_nets\n",
    "\n",
    "    def train(self):\n",
    "        for i in range(self.gens):\n",
    "            prev_time = time()\n",
    "\n",
    "            best_net, best_net_score, fitnesses = self.get_best_fit()\n",
    "\n",
    "            if self.verbose:\n",
    "                print(\n",
    "                    \"=====\",\n",
    "                    \"Generation:\",\n",
    "                    i + 1,\n",
    "                    \"\\tMaximum Reward:\",\n",
    "                    round(fitnesses.max()),\n",
    "                    \"\\tAverage Reward:\",\n",
    "                    round(fitnesses.mean()),\n",
    "                    time_elapsed(prev_time, time(), 3),\n",
    "                    \"=====\",\n",
    "                    \"\\n\",\n",
    "                )\n",
    "\n",
    "            # print(best_net_score)\n",
    "            if best_net_score == self.max_ep_len:\n",
    "                print(\"Callback reached: Max score obtained.\")\n",
    "                break\n",
    "\n",
    "            new_nets = self.mutate_nets(best_net)\n",
    "\n",
    "            self.nets = [best_net] + new_nets\n",
    "\n",
    "        self.best_net = best_net\n",
    "\n",
    "    def load(self, path=MODEL_PATH):\n",
    "        with open(path, \"rb\") as f:\n",
    "            self.best_net = pickle.load(f)\n",
    "\n",
    "    def save(self, path=MODEL_PATH):\n",
    "        with open(path, \"wb\") as f:\n",
    "            pickle.dump(self.best_net, f)\n",
    "\n",
    "    def evaluate(self, net):\n",
    "        mean_rewards = net.evaluate(\n",
    "            self.eps, self.max_ep_len, self.render_env, self.record\n",
    "        )\n",
    "        return mean_rewards\n"
   ]
  },
  {
   "cell_type": "code",
   "execution_count": 97,
   "metadata": {},
   "outputs": [],
   "source": [
    "# ga = GA(verbose=True)\n",
    "# model_path = None"
   ]
  },
  {
   "cell_type": "code",
   "execution_count": 98,
   "metadata": {},
   "outputs": [
    {
     "data": {
      "text/plain": [
       "'\\n===== Generation: 2 \\tMaximum Reward: 10000 \\tAverage Reward: 2734 \\tTime elapsed: 10.692 seconds ===== \\n'"
      ]
     },
     "execution_count": 98,
     "metadata": {},
     "output_type": "execute_result"
    }
   ],
   "source": [
    "# ga = GA(verbose=True, arch=(4, 8, 2), max_ep_len=10000, pop=64)\n",
    "# model_path = \"model-8 nodes-10k eps.bin\"\n",
    "\n",
    "\"\"\"\n",
    "===== Generation: 2 \tMaximum Reward: 10000 \tAverage Reward: 2734 \tTime elapsed: 10.692 seconds ===== \n",
    "\"\"\"\n"
   ]
  },
  {
   "cell_type": "code",
   "execution_count": 99,
   "metadata": {},
   "outputs": [
    {
     "data": {
      "text/plain": [
       "'\\n===== Generation: 1 \\tMaximum Reward: 5000 \\tAverage Reward: 170 \\tTime elapsed: 0.814 seconds =====\\n'"
      ]
     },
     "execution_count": 99,
     "metadata": {},
     "output_type": "execute_result"
    }
   ],
   "source": [
    "# ga = GA(verbose=True, arch=(4, 4, 2), max_ep_len=5000, pop=64, eps=2)\n",
    "# model_path = \"model-4 nodes-5k eps.bin\"\n",
    "\n",
    "\"\"\"\n",
    "===== Generation: 1 \tMaximum Reward: 5000 \tAverage Reward: 170 \tTime elapsed: 0.814 seconds =====\n",
    "\"\"\""
   ]
  },
  {
   "cell_type": "code",
   "execution_count": 100,
   "metadata": {},
   "outputs": [
    {
     "data": {
      "text/plain": [
       "'\\n===== Generation: 1 \\tMaximum Reward: 200 \\tAverage Reward: 104 \\tTime elapsed: 0.018 seconds =====\\n'"
      ]
     },
     "execution_count": 100,
     "metadata": {},
     "output_type": "execute_result"
    }
   ],
   "source": [
    "ga = GA(verbose=True, arch=(4, 1, 2), max_ep_len=200, pop=64, eps=1)\n",
    "model_path = \"model-too fast.bin\"\n",
    "\n",
    "\"\"\"\n",
    "===== Generation: 1 \tMaximum Reward: 200 \tAverage Reward: 104 \tTime elapsed: 0.018 seconds =====\n",
    "\"\"\""
   ]
  },
  {
   "cell_type": "code",
   "execution_count": 101,
   "metadata": {},
   "outputs": [],
   "source": [
    "# Train and save model\n",
    "# ga.train()\n",
    "# if model_path:\n",
    "    # ga.save(model_path)"
   ]
  },
  {
   "cell_type": "code",
   "execution_count": 102,
   "metadata": {},
   "outputs": [],
   "source": [
    "ga.load(model_path)\n",
    "\n",
    "record = False\n",
    "\n",
    "if record:\n",
    "    ga.best_net.evaluate(1, 200, True, True) # Record only records 200 steps\n",
    "else:\n",
    "    ga.best_net.evaluate(1, 10000, True)\n"
   ]
  }
 ],
 "metadata": {
  "interpreter": {
   "hash": "f7c1fa83a45090c7dcf13129008a160cc437ddcdb7cd57cdda701723205ddb7e"
  },
  "kernelspec": {
   "display_name": "Python 3.9.12 ('base')",
   "language": "python",
   "name": "python3"
  },
  "language_info": {
   "codemirror_mode": {
    "name": "ipython",
    "version": 3
   },
   "file_extension": ".py",
   "mimetype": "text/x-python",
   "name": "python",
   "nbconvert_exporter": "python",
   "pygments_lexer": "ipython3",
   "version": "3.9.12"
  },
  "orig_nbformat": 4
 },
 "nbformat": 4,
 "nbformat_minor": 2
}
