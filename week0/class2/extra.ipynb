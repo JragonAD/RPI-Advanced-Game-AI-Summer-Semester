{
 "cells": [
  {
   "cell_type": "code",
   "execution_count": null,
   "metadata": {},
   "outputs": [],
   "source": [
    "# https://github.com/BenSecret/Pytorch-Evolution-Strategies/blob/master/pytorch-evolution-strategies.py\n",
    "# https://gist.github.com/Pocuston/13f1a7786648e1e2ff95bfad02a51521\n",
    "\n",
    "#* PyTorch Implementation\n",
    "\n",
    "import torch\n",
    "import torch.nn as nn \n",
    "import torch.nn.functional as F\n",
    "\n",
    "class CartPoleAI(nn.Module):\n",
    "    def init(self):\n",
    "        super().init()\n",
    "        \n",
    "        self.fc = nn.Sequential(\n",
    "            nn.Linear(4,128, bias=True),\n",
    "            nn.ReLU(),\n",
    "            nn.Linear(128,64, bias=True),\n",
    "            nn.ReLU(),\n",
    "            nn.Linear(64,2, bias=True),\n",
    "            nn.Softmax(dim=1)\n",
    "        )\n",
    "\n",
    "\n",
    "    def forward(self, inputs):\n",
    "        x = self.fc(inputs)\n",
    "        return x"
   ]
  },
  {
   "cell_type": "code",
   "execution_count": null,
   "metadata": {},
   "outputs": [],
   "source": [
    "# https://realpython.com/python-ai-neural-network/#python-ai-starting-to-build-your-first-neural-network\n",
    "# https://towardsdatascience.com/inroduction-to-neural-networks-in-python-7e0b422e6c24\n",
    "\n",
    "#* NumPy Implementation\n",
    "\n",
    "class CartPoleAI():\n",
    "    def sigmoid(x):\n",
    "        pass"
   ]
  }
 ],
 "metadata": {
  "language_info": {
   "name": "python"
  },
  "orig_nbformat": 4
 },
 "nbformat": 4,
 "nbformat_minor": 2
}
